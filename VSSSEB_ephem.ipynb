{
 "cells": [
  {
   "cell_type": "markdown",
   "id": "3cb6c9d7-5c4c-4682-b457-83a02522ce91",
   "metadata": {},
   "source": [
    "<h1>VSS SEB Parsing for Ephemerides</h1>"
   ]
  },
  {
   "cell_type": "code",
   "execution_count": 18,
   "id": "f27e34eb-a16a-47df-9f2f-42389e47c88a",
   "metadata": {},
   "outputs": [],
   "source": [
    "import pandas as pd\n",
    "from astroquery.simbad import Simbad\n",
    "from astroquery.vizier import Vizier\n"
   ]
  },
  {
   "cell_type": "code",
   "execution_count": 19,
   "id": "da847dde-6519-4409-9681-2b0c3819c8b6",
   "metadata": {},
   "outputs": [],
   "source": [
    "df = pd.DataFrame()"
   ]
  },
  {
   "cell_type": "code",
   "execution_count": 20,
   "id": "6f75ee60-8f52-413e-94ad-0d456ff863d9",
   "metadata": {},
   "outputs": [],
   "source": [
    "df = pd.read_excel('VSS SEB observed targets.xlsx', sheet_name='Data')"
   ]
  },
  {
   "cell_type": "code",
   "execution_count": 21,
   "id": "c59cf0cf-3878-4562-91c5-7b14b45edf3f",
   "metadata": {},
   "outputs": [
    {
     "data": {
      "text/html": [
       "<div>\n",
       "<style scoped>\n",
       "    .dataframe tbody tr th:only-of-type {\n",
       "        vertical-align: middle;\n",
       "    }\n",
       "\n",
       "    .dataframe tbody tr th {\n",
       "        vertical-align: top;\n",
       "    }\n",
       "\n",
       "    .dataframe thead th {\n",
       "        text-align: right;\n",
       "    }\n",
       "</style>\n",
       "<table border=\"1\" class=\"dataframe\">\n",
       "  <thead>\n",
       "    <tr style=\"text-align: right;\">\n",
       "      <th></th>\n",
       "      <th>Star</th>\n",
       "      <th>Epoch (HJD)</th>\n",
       "      <th>Epoch Error</th>\n",
       "      <th>Period (d)</th>\n",
       "      <th>Period Error</th>\n",
       "      <th>O-C Diagram Notes</th>\n",
       "      <th>Recommended Fequency</th>\n",
       "      <th>Last Observed</th>\n",
       "    </tr>\n",
       "  </thead>\n",
       "  <tbody>\n",
       "    <tr>\n",
       "      <th>0</th>\n",
       "      <td>Ant S</td>\n",
       "      <td>2.458519e+06</td>\n",
       "      <td>0.000287</td>\n",
       "      <td>0.648348</td>\n",
       "      <td>2.959964e-07</td>\n",
       "      <td>linear?</td>\n",
       "      <td>yearly</td>\n",
       "      <td>2022-03-08 15:49:44.602</td>\n",
       "    </tr>\n",
       "    <tr>\n",
       "      <th>1</th>\n",
       "      <td>Aps DW</td>\n",
       "      <td>2.439210e+06</td>\n",
       "      <td>0.000787</td>\n",
       "      <td>2.312944</td>\n",
       "      <td>9.672835e-08</td>\n",
       "      <td>linear?</td>\n",
       "      <td>yearly</td>\n",
       "      <td>2022-05-09 14:58:03.446</td>\n",
       "    </tr>\n",
       "    <tr>\n",
       "      <th>2</th>\n",
       "      <td>Aps II</td>\n",
       "      <td>2.451931e+06</td>\n",
       "      <td>0.149860</td>\n",
       "      <td>0.842229</td>\n",
       "      <td>1.695586e-05</td>\n",
       "      <td>eccentric + apsidal motion?</td>\n",
       "      <td>2 per year</td>\n",
       "      <td>2021-06-23 10:19:15.616</td>\n",
       "    </tr>\n",
       "    <tr>\n",
       "      <th>3</th>\n",
       "      <td>Aps MR</td>\n",
       "      <td>2.457159e+06</td>\n",
       "      <td>0.000462</td>\n",
       "      <td>0.527864</td>\n",
       "      <td>1.404435e-07</td>\n",
       "      <td>linear?</td>\n",
       "      <td>yearly</td>\n",
       "      <td>2023-07-26 11:58:57.014</td>\n",
       "    </tr>\n",
       "    <tr>\n",
       "      <th>4</th>\n",
       "      <td>Aps NT</td>\n",
       "      <td>2.457208e+06</td>\n",
       "      <td>0.000361</td>\n",
       "      <td>0.294762</td>\n",
       "      <td>5.285139e-08</td>\n",
       "      <td>downward parabola?</td>\n",
       "      <td>yearly</td>\n",
       "      <td>2024-05-23 13:12:24.365</td>\n",
       "    </tr>\n",
       "  </tbody>\n",
       "</table>\n",
       "</div>"
      ],
      "text/plain": [
       "     Star   Epoch (HJD)  Epoch Error  Period (d)  Period Error  \\\n",
       "0   Ant S  2.458519e+06     0.000287    0.648348  2.959964e-07   \n",
       "1  Aps DW  2.439210e+06     0.000787    2.312944  9.672835e-08   \n",
       "2  Aps II  2.451931e+06     0.149860    0.842229  1.695586e-05   \n",
       "3  Aps MR  2.457159e+06     0.000462    0.527864  1.404435e-07   \n",
       "4  Aps NT  2.457208e+06     0.000361    0.294762  5.285139e-08   \n",
       "\n",
       "             O-C Diagram Notes Recommended Fequency           Last Observed  \n",
       "0                      linear?               yearly 2022-03-08 15:49:44.602  \n",
       "1                      linear?               yearly 2022-05-09 14:58:03.446  \n",
       "2  eccentric + apsidal motion?           2 per year 2021-06-23 10:19:15.616  \n",
       "3                      linear?               yearly 2023-07-26 11:58:57.014  \n",
       "4           downward parabola?               yearly 2024-05-23 13:12:24.365  "
      ]
     },
     "execution_count": 21,
     "metadata": {},
     "output_type": "execute_result"
    }
   ],
   "source": [
    "df.head()"
   ]
  },
  {
   "cell_type": "code",
   "execution_count": 22,
   "id": "2ad5eac9-eff7-45ec-8cd3-2487da2036f6",
   "metadata": {},
   "outputs": [
    {
     "data": {
      "text/plain": [
       "Index(['Star', 'Epoch (HJD)', 'Epoch Error', 'Period (d)', 'Period Error',\n",
       "       'O-C Diagram Notes', 'Recommended Fequency', 'Last Observed'],\n",
       "      dtype='object')"
      ]
     },
     "execution_count": 22,
     "metadata": {},
     "output_type": "execute_result"
    }
   ],
   "source": [
    "df.columns"
   ]
  },
  {
   "cell_type": "code",
   "execution_count": 23,
   "id": "f472c19c-a993-4ae2-8068-efaefbc568d5",
   "metadata": {},
   "outputs": [],
   "source": [
    "df['Const', 'VarID'] = df['Star'].str.split()"
   ]
  },
  {
   "cell_type": "markdown",
   "id": "ce46480f-1a7d-4bec-8b13-24beb93b21b7",
   "metadata": {},
   "source": [
    "We parse the weirdness of the input file"
   ]
  },
  {
   "cell_type": "code",
   "execution_count": 101,
   "id": "f5c5c63c-b685-4edc-ad44-371c76de2a97",
   "metadata": {},
   "outputs": [
    {
     "name": "stderr",
     "output_type": "stream",
     "text": [
      "WARNING: BlankResponseWarning: Warning: The script line number 3 raised an error (recorded in the `errors` attribute of the result table): Identifier not found in the database : NSV 25657 [astroquery.simbad.core]\n"
     ]
    },
    {
     "name": "stdout",
     "output_type": "stream",
     "text": [
      "NSV25657: failed to locate... looking at GCVS...\n",
      " found in GCVS.\n"
     ]
    },
    {
     "name": "stderr",
     "output_type": "stream",
     "text": [
      "WARNING: BlankResponseWarning: Warning: The script line number 3 raised an error (recorded in the `errors` attribute of the result table): Identifier not found in the database : ASASSN-V J184530.00-593235.0 [astroquery.simbad.core]\n"
     ]
    },
    {
     "name": "stdout",
     "output_type": "stream",
     "text": [
      "ASASSN-VJ184530.00-593235.0: failed to locate... looking at GCVS...\n",
      " could not find in GCVS.\n"
     ]
    },
    {
     "name": "stderr",
     "output_type": "stream",
     "text": [
      "WARNING: BlankResponseWarning: Warning: The script line number 3 raised an error (recorded in the `errors` attribute of the result table): Identifier not found in the database : NSV  1389 [astroquery.simbad.core]\n"
     ]
    },
    {
     "name": "stdout",
     "output_type": "stream",
     "text": [
      "NSV1389: failed to locate... looking at GCVS...\n",
      " found in GCVS.\n"
     ]
    }
   ],
   "source": [
    "objectsdf = pd.DataFrame()\n",
    "for i in range(len(df)):\n",
    "    details = df['Const', 'VarID'].iloc[i]\n",
    "    if (len(details) == 2):\n",
    "        object_name = details[1] +' '+ details[0]\n",
    "    if (len(details) > 2):\n",
    "        if (details[2].lower() == \"secondary\" or details[2].lower() == \"primary\"):\n",
    "            object_name = details[1] +' '+ details[0]\n",
    "        else:\n",
    "            object_name = details[1]+details[2]# +' '+ details[0]\n",
    "\n",
    "    result_table = Simbad.query_object(object_name)\n",
    "    #print(result_table)\n",
    "    if (result_table is None):\n",
    "        print(f'{object_name}: failed to locate... looking at GCVS...')\n",
    "        # if that is the case look at the GCVS\n",
    "        gcvs_catalog = \"B/gcvs\"\n",
    "        vizier = Vizier(columns=['RAJ2000,DEJ2000,magMax,VarType'])\n",
    "        gcvs_result = vizier.query_object(object_name, catalog=gcvs_catalog)\n",
    "        if gcvs_result:\n",
    "            result_table=gcvs_result[0]\n",
    "            print(' found in GCVS.')\n",
    "        else:\n",
    "            print(' could not find in GCVS.')\n",
    "            continue\n",
    "    objdf = result_table.to_pandas()\n",
    "    for colname in df.columns[:-1]:\n",
    "        #print(colname, df.iloc[i][colname])\n",
    "        objdf[colname] = df.iloc[i][colname]\n",
    "    objectsdf = pd.concat([objectsdf, objdf], ignore_index=True)\n",
    "columns_to_drop = ['RA_PREC', 'DEC_PREC', 'COO_ERR_MAJA', 'COO_ERR_MINA','COO_ERR_ANGLE','COO_QUAL','COO_WAVELENGTH','COO_BIBCODE',\t'SCRIPT_NUMBER_ID']\n",
    "objectsdf = objectsdf.drop(columns=columns_to_drop)"
   ]
  },
  {
   "cell_type": "code",
   "execution_count": 102,
   "id": "ddf246fd-6a94-4ec7-8739-ca47446403fa",
   "metadata": {},
   "outputs": [],
   "source": [
    "objectsdf['RA'] = objectsdf['RA'].str.replace(' ','', regex=True)\n",
    "objectsdf['DEC'] = objectsdf['DEC'].str.replace(' ','', regex=True)\n",
    "objectsdf['MAIN_ID'] = objectsdf['MAIN_ID'].str.replace('V* ','', regex=True)"
   ]
  },
  {
   "cell_type": "code",
   "execution_count": 109,
   "id": "0803794c",
   "metadata": {},
   "outputs": [
    {
     "data": {
      "text/html": [
       "<div>\n",
       "<style scoped>\n",
       "    .dataframe tbody tr th:only-of-type {\n",
       "        vertical-align: middle;\n",
       "    }\n",
       "\n",
       "    .dataframe tbody tr th {\n",
       "        vertical-align: top;\n",
       "    }\n",
       "\n",
       "    .dataframe thead th {\n",
       "        text-align: right;\n",
       "    }\n",
       "</style>\n",
       "<table border=\"1\" class=\"dataframe\">\n",
       "  <thead>\n",
       "    <tr style=\"text-align: right;\">\n",
       "      <th></th>\n",
       "      <th>MAIN_ID</th>\n",
       "      <th>RA</th>\n",
       "      <th>DEC</th>\n",
       "      <th>Star</th>\n",
       "      <th>Epoch (HJD)</th>\n",
       "      <th>Epoch Error</th>\n",
       "      <th>Period (d)</th>\n",
       "      <th>Period Error</th>\n",
       "      <th>O-C Diagram Notes</th>\n",
       "      <th>Recommended Fequency</th>\n",
       "      <th>Last Observed</th>\n",
       "      <th>RAJ2000</th>\n",
       "      <th>DEJ2000</th>\n",
       "      <th>magMax</th>\n",
       "      <th>VarType</th>\n",
       "    </tr>\n",
       "  </thead>\n",
       "  <tbody>\n",
       "    <tr>\n",
       "      <th>0</th>\n",
       "      <td>V*SAnt</td>\n",
       "      <td>093218.3864</td>\n",
       "      <td>-283739.968</td>\n",
       "      <td>Ant S</td>\n",
       "      <td>2.458519e+06</td>\n",
       "      <td>0.000287</td>\n",
       "      <td>0.648348</td>\n",
       "      <td>2.959964e-07</td>\n",
       "      <td>linear?</td>\n",
       "      <td>yearly</td>\n",
       "      <td>2022-03-08 15:49:44.602</td>\n",
       "      <td>NaN</td>\n",
       "      <td>NaN</td>\n",
       "      <td>NaN</td>\n",
       "      <td>NaN</td>\n",
       "    </tr>\n",
       "    <tr>\n",
       "      <th>1</th>\n",
       "      <td>V*DWAps</td>\n",
       "      <td>172330.0309</td>\n",
       "      <td>-675544.906</td>\n",
       "      <td>Aps DW</td>\n",
       "      <td>2.439210e+06</td>\n",
       "      <td>0.000787</td>\n",
       "      <td>2.312944</td>\n",
       "      <td>9.672835e-08</td>\n",
       "      <td>linear?</td>\n",
       "      <td>yearly</td>\n",
       "      <td>2022-05-09 14:58:03.446</td>\n",
       "      <td>NaN</td>\n",
       "      <td>NaN</td>\n",
       "      <td>NaN</td>\n",
       "      <td>NaN</td>\n",
       "    </tr>\n",
       "    <tr>\n",
       "      <th>2</th>\n",
       "      <td>V*IIAps</td>\n",
       "      <td>162741.9350</td>\n",
       "      <td>-745044.229</td>\n",
       "      <td>Aps II</td>\n",
       "      <td>2.451931e+06</td>\n",
       "      <td>0.149860</td>\n",
       "      <td>0.842229</td>\n",
       "      <td>1.695586e-05</td>\n",
       "      <td>eccentric + apsidal motion?</td>\n",
       "      <td>2 per year</td>\n",
       "      <td>2021-06-23 10:19:15.616</td>\n",
       "      <td>NaN</td>\n",
       "      <td>NaN</td>\n",
       "      <td>NaN</td>\n",
       "      <td>NaN</td>\n",
       "    </tr>\n",
       "    <tr>\n",
       "      <th>3</th>\n",
       "      <td>V*MRAps</td>\n",
       "      <td>170757.5281</td>\n",
       "      <td>-734335.400</td>\n",
       "      <td>Aps MR</td>\n",
       "      <td>2.457159e+06</td>\n",
       "      <td>0.000462</td>\n",
       "      <td>0.527864</td>\n",
       "      <td>1.404435e-07</td>\n",
       "      <td>linear?</td>\n",
       "      <td>yearly</td>\n",
       "      <td>2023-07-26 11:58:57.014</td>\n",
       "      <td>NaN</td>\n",
       "      <td>NaN</td>\n",
       "      <td>NaN</td>\n",
       "      <td>NaN</td>\n",
       "    </tr>\n",
       "    <tr>\n",
       "      <th>4</th>\n",
       "      <td>HD128575</td>\n",
       "      <td>144242.5763</td>\n",
       "      <td>-741841.568</td>\n",
       "      <td>Aps NT</td>\n",
       "      <td>2.457208e+06</td>\n",
       "      <td>0.000361</td>\n",
       "      <td>0.294762</td>\n",
       "      <td>5.285139e-08</td>\n",
       "      <td>downward parabola?</td>\n",
       "      <td>yearly</td>\n",
       "      <td>2024-05-23 13:12:24.365</td>\n",
       "      <td>NaN</td>\n",
       "      <td>NaN</td>\n",
       "      <td>NaN</td>\n",
       "      <td>NaN</td>\n",
       "    </tr>\n",
       "    <tr>\n",
       "      <th>...</th>\n",
       "      <td>...</td>\n",
       "      <td>...</td>\n",
       "      <td>...</td>\n",
       "      <td>...</td>\n",
       "      <td>...</td>\n",
       "      <td>...</td>\n",
       "      <td>...</td>\n",
       "      <td>...</td>\n",
       "      <td>...</td>\n",
       "      <td>...</td>\n",
       "      <td>...</td>\n",
       "      <td>...</td>\n",
       "      <td>...</td>\n",
       "      <td>...</td>\n",
       "      <td>...</td>\n",
       "    </tr>\n",
       "    <tr>\n",
       "      <th>208</th>\n",
       "      <td>V*V448Vel</td>\n",
       "      <td>082455.4977</td>\n",
       "      <td>-483334.971</td>\n",
       "      <td>Vel V0448</td>\n",
       "      <td>2.451868e+06</td>\n",
       "      <td>NaN</td>\n",
       "      <td>0.364876</td>\n",
       "      <td>NaN</td>\n",
       "      <td>only two ToMs</td>\n",
       "      <td>yearly</td>\n",
       "      <td>2021-03-04 14:09:17.856</td>\n",
       "      <td>NaN</td>\n",
       "      <td>NaN</td>\n",
       "      <td>NaN</td>\n",
       "      <td>NaN</td>\n",
       "    </tr>\n",
       "    <tr>\n",
       "      <th>209</th>\n",
       "      <td>BD-073477</td>\n",
       "      <td>124420.2386</td>\n",
       "      <td>-084016.846</td>\n",
       "      <td>Vir HW</td>\n",
       "      <td>2.452500e+06</td>\n",
       "      <td>0.000190</td>\n",
       "      <td>0.116720</td>\n",
       "      <td>3.396294e-09</td>\n",
       "      <td>linear?</td>\n",
       "      <td>yearly</td>\n",
       "      <td>2023-06-24 11:18:51.638</td>\n",
       "      <td>NaN</td>\n",
       "      <td>NaN</td>\n",
       "      <td>NaN</td>\n",
       "      <td>NaN</td>\n",
       "    </tr>\n",
       "    <tr>\n",
       "      <th>210</th>\n",
       "      <td>V*AEVol</td>\n",
       "      <td>084539.4033</td>\n",
       "      <td>-645928.043</td>\n",
       "      <td>Vol AE</td>\n",
       "      <td>2.452614e+06</td>\n",
       "      <td>0.000285</td>\n",
       "      <td>0.406615</td>\n",
       "      <td>1.940033e-08</td>\n",
       "      <td>linear?</td>\n",
       "      <td>yearly</td>\n",
       "      <td>2022-12-28 13:18:28.541</td>\n",
       "      <td>NaN</td>\n",
       "      <td>NaN</td>\n",
       "      <td>NaN</td>\n",
       "      <td>NaN</td>\n",
       "    </tr>\n",
       "    <tr>\n",
       "      <th>211</th>\n",
       "      <td>V*AFVol</td>\n",
       "      <td>085334.8637</td>\n",
       "      <td>-702807.633</td>\n",
       "      <td>Vol AF</td>\n",
       "      <td>2.452618e+06</td>\n",
       "      <td>0.000565</td>\n",
       "      <td>0.638935</td>\n",
       "      <td>6.027154e-08</td>\n",
       "      <td>linear?</td>\n",
       "      <td>yearly</td>\n",
       "      <td>2023-01-18 12:52:15.456</td>\n",
       "      <td>NaN</td>\n",
       "      <td>NaN</td>\n",
       "      <td>NaN</td>\n",
       "      <td>NaN</td>\n",
       "    </tr>\n",
       "    <tr>\n",
       "      <th>212</th>\n",
       "      <td>V*WVol</td>\n",
       "      <td>073740.0546</td>\n",
       "      <td>-693232.383</td>\n",
       "      <td>Vol W</td>\n",
       "      <td>2.458356e+06</td>\n",
       "      <td>0.000434</td>\n",
       "      <td>2.758150</td>\n",
       "      <td>2.988410e-06</td>\n",
       "      <td>downward parabola?</td>\n",
       "      <td>yearly</td>\n",
       "      <td>2020-03-12 15:03:07.402</td>\n",
       "      <td>NaN</td>\n",
       "      <td>NaN</td>\n",
       "      <td>NaN</td>\n",
       "      <td>NaN</td>\n",
       "    </tr>\n",
       "  </tbody>\n",
       "</table>\n",
       "<p>213 rows × 15 columns</p>\n",
       "</div>"
      ],
      "text/plain": [
       "       MAIN_ID           RA          DEC       Star   Epoch (HJD)  \\\n",
       "0       V*SAnt  093218.3864  -283739.968      Ant S  2.458519e+06   \n",
       "1      V*DWAps  172330.0309  -675544.906     Aps DW  2.439210e+06   \n",
       "2      V*IIAps  162741.9350  -745044.229     Aps II  2.451931e+06   \n",
       "3      V*MRAps  170757.5281  -734335.400     Aps MR  2.457159e+06   \n",
       "4     HD128575  144242.5763  -741841.568     Aps NT  2.457208e+06   \n",
       "..         ...          ...          ...        ...           ...   \n",
       "208  V*V448Vel  082455.4977  -483334.971  Vel V0448  2.451868e+06   \n",
       "209  BD-073477  124420.2386  -084016.846     Vir HW  2.452500e+06   \n",
       "210    V*AEVol  084539.4033  -645928.043     Vol AE  2.452614e+06   \n",
       "211    V*AFVol  085334.8637  -702807.633     Vol AF  2.452618e+06   \n",
       "212     V*WVol  073740.0546  -693232.383      Vol W  2.458356e+06   \n",
       "\n",
       "     Epoch Error  Period (d)  Period Error            O-C Diagram Notes  \\\n",
       "0       0.000287    0.648348  2.959964e-07                      linear?   \n",
       "1       0.000787    2.312944  9.672835e-08                      linear?   \n",
       "2       0.149860    0.842229  1.695586e-05  eccentric + apsidal motion?   \n",
       "3       0.000462    0.527864  1.404435e-07                      linear?   \n",
       "4       0.000361    0.294762  5.285139e-08           downward parabola?   \n",
       "..           ...         ...           ...                          ...   \n",
       "208          NaN    0.364876           NaN                only two ToMs   \n",
       "209     0.000190    0.116720  3.396294e-09                      linear?   \n",
       "210     0.000285    0.406615  1.940033e-08                      linear?   \n",
       "211     0.000565    0.638935  6.027154e-08                      linear?   \n",
       "212     0.000434    2.758150  2.988410e-06           downward parabola?   \n",
       "\n",
       "    Recommended Fequency           Last Observed RAJ2000 DEJ2000  magMax  \\\n",
       "0                 yearly 2022-03-08 15:49:44.602     NaN     NaN     NaN   \n",
       "1                 yearly 2022-05-09 14:58:03.446     NaN     NaN     NaN   \n",
       "2             2 per year 2021-06-23 10:19:15.616     NaN     NaN     NaN   \n",
       "3                 yearly 2023-07-26 11:58:57.014     NaN     NaN     NaN   \n",
       "4                 yearly 2024-05-23 13:12:24.365     NaN     NaN     NaN   \n",
       "..                   ...                     ...     ...     ...     ...   \n",
       "208               yearly 2021-03-04 14:09:17.856     NaN     NaN     NaN   \n",
       "209               yearly 2023-06-24 11:18:51.638     NaN     NaN     NaN   \n",
       "210               yearly 2022-12-28 13:18:28.541     NaN     NaN     NaN   \n",
       "211               yearly 2023-01-18 12:52:15.456     NaN     NaN     NaN   \n",
       "212               yearly 2020-03-12 15:03:07.402     NaN     NaN     NaN   \n",
       "\n",
       "    VarType  \n",
       "0       NaN  \n",
       "1       NaN  \n",
       "2       NaN  \n",
       "3       NaN  \n",
       "4       NaN  \n",
       "..      ...  \n",
       "208     NaN  \n",
       "209     NaN  \n",
       "210     NaN  \n",
       "211     NaN  \n",
       "212     NaN  \n",
       "\n",
       "[213 rows x 15 columns]"
      ]
     },
     "execution_count": 109,
     "metadata": {},
     "output_type": "execute_result"
    }
   ],
   "source": [
    "objectsdf"
   ]
  },
  {
   "cell_type": "markdown",
   "id": "4575491d-a9db-44de-a360-85e281492e50",
   "metadata": {},
   "source": [
    "<hr>"
   ]
  },
  {
   "cell_type": "markdown",
   "id": "171b3854-a467-4d7f-b389-dc75faf3539f",
   "metadata": {},
   "source": [
    "Okay now time to format the dataframe to the format of the empherides cat"
   ]
  },
  {
   "cell_type": "markdown",
   "id": "b8a4617d-f812-4d4e-917c-33c9fedde349",
   "metadata": {},
   "source": [
    "Here is a sample:\n",
    "\n",
    " CONS NAME             PS RATING RA2000   DE2000  M0           PER          MAX      PRIM     SEK      BRANCH LD   SD   GSC         TYPE         N10    N     \n",
    " And  RT               p  1      231110.1 +530133 51463.24     0.62892951   8.55     9.47     8.88     V      2.6       3998.02167  EA/RS        136    1576  \n"
   ]
  },
  {
   "cell_type": "markdown",
   "id": "eed1678a-0abb-4a6d-aa65-a0d5b7aa2179",
   "metadata": {},
   "source": [
    "and it is formated Fortran style - columns have fixed width\n"
   ]
  },
  {
   "cell_type": "markdown",
   "id": "d65e572c-3b6d-4311-9ac1-1098f5086ae0",
   "metadata": {},
   "source": [
    "cons = 6; name=17; PS=3, rating=7, RA2000=9, DE2000=8\n",
    "M0=13, per=13, max=9, prim=9, sek=9, branch=7, ld=5, sd=5, GSC=12, type=13, N10=7, n=7"
   ]
  },
  {
   "cell_type": "code",
   "execution_count": 108,
   "id": "2fd434d5-44a8-42f4-97e0-5794e0ec0ed4",
   "metadata": {},
   "outputs": [
    {
     "ename": "KeyError",
     "evalue": "'CONS'",
     "output_type": "error",
     "traceback": [
      "\u001b[1;31m---------------------------------------------------------------------------\u001b[0m",
      "\u001b[1;31mKeyError\u001b[0m                                  Traceback (most recent call last)",
      "\u001b[1;32m~\\anaconda3\\envs\\wombat\\lib\\site-packages\\pandas\\core\\indexes\\base.py\u001b[0m in \u001b[0;36mget_loc\u001b[1;34m(self, key, method, tolerance)\u001b[0m\n\u001b[0;32m   3360\u001b[0m             \u001b[1;32mtry\u001b[0m\u001b[1;33m:\u001b[0m\u001b[1;33m\u001b[0m\u001b[1;33m\u001b[0m\u001b[0m\n\u001b[1;32m-> 3361\u001b[1;33m                 \u001b[1;32mreturn\u001b[0m \u001b[0mself\u001b[0m\u001b[1;33m.\u001b[0m\u001b[0m_engine\u001b[0m\u001b[1;33m.\u001b[0m\u001b[0mget_loc\u001b[0m\u001b[1;33m(\u001b[0m\u001b[0mcasted_key\u001b[0m\u001b[1;33m)\u001b[0m\u001b[1;33m\u001b[0m\u001b[1;33m\u001b[0m\u001b[0m\n\u001b[0m\u001b[0;32m   3362\u001b[0m             \u001b[1;32mexcept\u001b[0m \u001b[0mKeyError\u001b[0m \u001b[1;32mas\u001b[0m \u001b[0merr\u001b[0m\u001b[1;33m:\u001b[0m\u001b[1;33m\u001b[0m\u001b[1;33m\u001b[0m\u001b[0m\n",
      "\u001b[1;32m~\\anaconda3\\envs\\wombat\\lib\\site-packages\\pandas\\_libs\\index.pyx\u001b[0m in \u001b[0;36mpandas._libs.index.IndexEngine.get_loc\u001b[1;34m()\u001b[0m\n",
      "\u001b[1;32m~\\anaconda3\\envs\\wombat\\lib\\site-packages\\pandas\\_libs\\index.pyx\u001b[0m in \u001b[0;36mpandas._libs.index.IndexEngine.get_loc\u001b[1;34m()\u001b[0m\n",
      "\u001b[1;32mpandas\\_libs\\hashtable_class_helper.pxi\u001b[0m in \u001b[0;36mpandas._libs.hashtable.PyObjectHashTable.get_item\u001b[1;34m()\u001b[0m\n",
      "\u001b[1;32mpandas\\_libs\\hashtable_class_helper.pxi\u001b[0m in \u001b[0;36mpandas._libs.hashtable.PyObjectHashTable.get_item\u001b[1;34m()\u001b[0m\n",
      "\u001b[1;31mKeyError\u001b[0m: 'CONS'",
      "\nThe above exception was the direct cause of the following exception:\n",
      "\u001b[1;31mKeyError\u001b[0m                                  Traceback (most recent call last)",
      "\u001b[1;32m~\\AppData\\Local\\Temp/ipykernel_18832/4078601580.py\u001b[0m in \u001b[0;36m<module>\u001b[1;34m\u001b[0m\n\u001b[0;32m      1\u001b[0m \u001b[0mephem_df\u001b[0m \u001b[1;33m=\u001b[0m \u001b[0mpd\u001b[0m\u001b[1;33m.\u001b[0m\u001b[0mDataFrame\u001b[0m\u001b[1;33m(\u001b[0m\u001b[1;33m)\u001b[0m\u001b[1;33m\u001b[0m\u001b[1;33m\u001b[0m\u001b[0m\n\u001b[1;32m----> 2\u001b[1;33m \u001b[0mephem_df\u001b[0m \u001b[1;33m=\u001b[0m \u001b[0mephem_df\u001b[0m\u001b[1;33m.\u001b[0m\u001b[0massign\u001b[0m\u001b[1;33m(\u001b[0m\u001b[0mCONS\u001b[0m\u001b[1;33m=\u001b[0m\u001b[0mobjectsdf\u001b[0m\u001b[1;33m[\u001b[0m\u001b[1;34m'CONS'\u001b[0m\u001b[1;33m]\u001b[0m\u001b[1;33m)\u001b[0m\u001b[1;33m\u001b[0m\u001b[1;33m\u001b[0m\u001b[0m\n\u001b[0m\u001b[0;32m      3\u001b[0m \u001b[0mephem_df\u001b[0m \u001b[1;33m=\u001b[0m \u001b[0mephem_df\u001b[0m\u001b[1;33m.\u001b[0m\u001b[0massign\u001b[0m\u001b[1;33m(\u001b[0m\u001b[0mNAME\u001b[0m\u001b[1;33m=\u001b[0m\u001b[0mobjectsdf\u001b[0m\u001b[1;33m[\u001b[0m\u001b[1;34m'starname'\u001b[0m\u001b[1;33m]\u001b[0m\u001b[1;33m)\u001b[0m\u001b[1;33m\u001b[0m\u001b[1;33m\u001b[0m\u001b[0m\n\u001b[0;32m      4\u001b[0m \u001b[0mephem_df\u001b[0m\u001b[1;33m[\u001b[0m\u001b[1;34m'PS'\u001b[0m\u001b[1;33m]\u001b[0m \u001b[1;33m=\u001b[0m \u001b[1;34m\"p\"\u001b[0m\u001b[1;33m\u001b[0m\u001b[1;33m\u001b[0m\u001b[0m\n\u001b[0;32m      5\u001b[0m \u001b[0mephem_df\u001b[0m\u001b[1;33m[\u001b[0m\u001b[1;34m'PS'\u001b[0m\u001b[1;33m]\u001b[0m\u001b[1;33m.\u001b[0m\u001b[0mloc\u001b[0m\u001b[1;33m[\u001b[0m\u001b[0mobjectsdf\u001b[0m\u001b[1;33m[\u001b[0m\u001b[1;34m'Star'\u001b[0m\u001b[1;33m]\u001b[0m\u001b[1;33m.\u001b[0m\u001b[0mstr\u001b[0m\u001b[1;33m.\u001b[0m\u001b[0mcontains\u001b[0m\u001b[1;33m(\u001b[0m\u001b[1;34m'Primary'\u001b[0m\u001b[1;33m)\u001b[0m\u001b[1;33m]\u001b[0m \u001b[1;33m=\u001b[0m \u001b[1;34m\"p\"\u001b[0m\u001b[1;33m\u001b[0m\u001b[1;33m\u001b[0m\u001b[0m\n",
      "\u001b[1;32m~\\anaconda3\\envs\\wombat\\lib\\site-packages\\pandas\\core\\frame.py\u001b[0m in \u001b[0;36m__getitem__\u001b[1;34m(self, key)\u001b[0m\n\u001b[0;32m   3453\u001b[0m             \u001b[1;32mif\u001b[0m \u001b[0mself\u001b[0m\u001b[1;33m.\u001b[0m\u001b[0mcolumns\u001b[0m\u001b[1;33m.\u001b[0m\u001b[0mnlevels\u001b[0m \u001b[1;33m>\u001b[0m \u001b[1;36m1\u001b[0m\u001b[1;33m:\u001b[0m\u001b[1;33m\u001b[0m\u001b[1;33m\u001b[0m\u001b[0m\n\u001b[0;32m   3454\u001b[0m                 \u001b[1;32mreturn\u001b[0m \u001b[0mself\u001b[0m\u001b[1;33m.\u001b[0m\u001b[0m_getitem_multilevel\u001b[0m\u001b[1;33m(\u001b[0m\u001b[0mkey\u001b[0m\u001b[1;33m)\u001b[0m\u001b[1;33m\u001b[0m\u001b[1;33m\u001b[0m\u001b[0m\n\u001b[1;32m-> 3455\u001b[1;33m             \u001b[0mindexer\u001b[0m \u001b[1;33m=\u001b[0m \u001b[0mself\u001b[0m\u001b[1;33m.\u001b[0m\u001b[0mcolumns\u001b[0m\u001b[1;33m.\u001b[0m\u001b[0mget_loc\u001b[0m\u001b[1;33m(\u001b[0m\u001b[0mkey\u001b[0m\u001b[1;33m)\u001b[0m\u001b[1;33m\u001b[0m\u001b[1;33m\u001b[0m\u001b[0m\n\u001b[0m\u001b[0;32m   3456\u001b[0m             \u001b[1;32mif\u001b[0m \u001b[0mis_integer\u001b[0m\u001b[1;33m(\u001b[0m\u001b[0mindexer\u001b[0m\u001b[1;33m)\u001b[0m\u001b[1;33m:\u001b[0m\u001b[1;33m\u001b[0m\u001b[1;33m\u001b[0m\u001b[0m\n\u001b[0;32m   3457\u001b[0m                 \u001b[0mindexer\u001b[0m \u001b[1;33m=\u001b[0m \u001b[1;33m[\u001b[0m\u001b[0mindexer\u001b[0m\u001b[1;33m]\u001b[0m\u001b[1;33m\u001b[0m\u001b[1;33m\u001b[0m\u001b[0m\n",
      "\u001b[1;32m~\\anaconda3\\envs\\wombat\\lib\\site-packages\\pandas\\core\\indexes\\base.py\u001b[0m in \u001b[0;36mget_loc\u001b[1;34m(self, key, method, tolerance)\u001b[0m\n\u001b[0;32m   3361\u001b[0m                 \u001b[1;32mreturn\u001b[0m \u001b[0mself\u001b[0m\u001b[1;33m.\u001b[0m\u001b[0m_engine\u001b[0m\u001b[1;33m.\u001b[0m\u001b[0mget_loc\u001b[0m\u001b[1;33m(\u001b[0m\u001b[0mcasted_key\u001b[0m\u001b[1;33m)\u001b[0m\u001b[1;33m\u001b[0m\u001b[1;33m\u001b[0m\u001b[0m\n\u001b[0;32m   3362\u001b[0m             \u001b[1;32mexcept\u001b[0m \u001b[0mKeyError\u001b[0m \u001b[1;32mas\u001b[0m \u001b[0merr\u001b[0m\u001b[1;33m:\u001b[0m\u001b[1;33m\u001b[0m\u001b[1;33m\u001b[0m\u001b[0m\n\u001b[1;32m-> 3363\u001b[1;33m                 \u001b[1;32mraise\u001b[0m \u001b[0mKeyError\u001b[0m\u001b[1;33m(\u001b[0m\u001b[0mkey\u001b[0m\u001b[1;33m)\u001b[0m \u001b[1;32mfrom\u001b[0m \u001b[0merr\u001b[0m\u001b[1;33m\u001b[0m\u001b[1;33m\u001b[0m\u001b[0m\n\u001b[0m\u001b[0;32m   3364\u001b[0m \u001b[1;33m\u001b[0m\u001b[0m\n\u001b[0;32m   3365\u001b[0m         \u001b[1;32mif\u001b[0m \u001b[0mis_scalar\u001b[0m\u001b[1;33m(\u001b[0m\u001b[0mkey\u001b[0m\u001b[1;33m)\u001b[0m \u001b[1;32mand\u001b[0m \u001b[0misna\u001b[0m\u001b[1;33m(\u001b[0m\u001b[0mkey\u001b[0m\u001b[1;33m)\u001b[0m \u001b[1;32mand\u001b[0m \u001b[1;32mnot\u001b[0m \u001b[0mself\u001b[0m\u001b[1;33m.\u001b[0m\u001b[0mhasnans\u001b[0m\u001b[1;33m:\u001b[0m\u001b[1;33m\u001b[0m\u001b[1;33m\u001b[0m\u001b[0m\n",
      "\u001b[1;31mKeyError\u001b[0m: 'CONS'"
     ]
    }
   ],
   "source": [
    "CONS = objectsdf['name'].str.split().str.get(1)\n",
    "starname = objectsdf['name'].str.split().str.get(0)\n",
    "ephem_df = pd.DataFrame()\n",
    "ephem_df = ephem_df.assign(CONS=objectsdf['CONS'])\n",
    "ephem_df = ephem_df.assign(NAME=objectsdf['starname'])\n",
    "ephem_df['PS'] = \"p\"\n",
    "ephem_df['PS'].loc[objectsdf['Star'].str.contains('Primary')] = \"p\"\n",
    "ephem_df['PS'].loc[objectsdf['Star'].str.contains('Secondary')] = \"s\""
   ]
  },
  {
   "cell_type": "code",
   "execution_count": 104,
   "id": "dd89f3d0-7419-4f81-b62b-5392b8fa34c6",
   "metadata": {},
   "outputs": [],
   "source": [
    "ephem['CONST'] = const\n",
    "ephem['NAME'] = name\n",
    "ephem['PS'] = ps\n",
    "ephem['RATING'] = rating\n",
    "ephem['RA2000'] = ra2000"
   ]
  },
  {
   "cell_type": "code",
   "execution_count": 105,
   "id": "3f8a4751-ed11-4b1e-902b-11c82a355722",
   "metadata": {},
   "outputs": [],
   "source": [
    "# Convert DataFrame to a fixed-width formatted string\n",
    "fixed_width_str = ephem.to_string(index=False, formatters=formatters)"
   ]
  },
  {
   "cell_type": "code",
   "execution_count": 106,
   "id": "1d667081-e77a-42fd-b33b-47ffc210c287",
   "metadata": {},
   "outputs": [
    {
     "data": {
      "text/plain": [
       "'CONST               NAME  PS  RATING    RA2000\\n  Ant  S                 p   10      93218.4  \\n  Aps  DW                p   10      172330.0 \\n  Aps  II                p   10      162741.9 \\n  Aps  MR                p   10      170757.5 \\n  Aps  NT                p   10      144242.6 \\n  Aps  NX                p   10      145641.8 \\n  Aps  TV                p   10      144549.7 \\n  Aps  V0354             p   10      151528.6 \\n  Aps  YY                p   10      150234.3 \\n  Aqr  AO                p   10      221131.9 \\n  Aqr  DX                p   10      220226.2 \\n  Aqr  EE                p   10      223442.0 \\n  Ara  FU                p   10      173332.3 \\n  Ara  R                 p   10      163944.7 \\n  Ara  V0489             p   10      171042.5 \\n  Ara  V0491             p   10      171104.7 \\n  Ara  V0535             p   10      173805.6 \\n  Ara  V0610             p   10      165211.3 \\n  Ara  V0870             p   10      180822.7 \\n  Ara  V0878             p   10      164948.8 \\n  Cae  S                 p   10      45656.5  \\n  Cap  TY                p   10      202429.7 \\n  Car  OT                p   10      95907.5  \\n  Car  ST                p   10      101553.1 \\n  Car  V0454             p   10      73246.1  \\n  Car  V0462             p   10      80215.5  \\n  Car  V0625             p   10      95047.8  \\n  Cen  BG                p   10      113721.3 \\n  Cen  BH                p   10      113910.2 \\n  Cen  OZ                p   10      134649.8 \\n  Cen  RR                p   10      141657.2 \\n  Cen  V0676             p   10      143750.8 \\n  Cen  V0701             p   10      133137.7 \\n  Cen  V0716             p   10      141339.8 \\n  Cen  V0752             p   10      114248.1 \\n  Cen  V0757             p   10      135155.7 \\n  Cen  V0758             p   10      135242.9 \\n  Cen  V0759             p   10      141041.3 \\n  Cen  V0831             p   10      131217.6 \\n  Cen  V0901             p   10      111403.3 \\n  Cen  V1129             p   10      123907.9 \\n  Cen  V1362             p   10      144047.4 \\n  Cet  AA                p   10      15900.7  \\n  Cet  TT                p   10      14656.5  \\n  Cet  WY                p   10      13535.9  \\n  Cha  GO                p   10      93310.4  \\n  Cha  RZ                p   10      104224.1 \\n  Cir  DM                p   10      152408.5 \\n  CMa  AR                p   10      70556.2  \\n  CMa  FQ                p   10      70443.8  \\n  CMa  TU                p   10      63136.7  \\n  CMa  VW                p   10      71225.5  \\n  Col ASASJ061717-3427.6 p   10      61716.8  \\n  Col  AZ                p   10      52850.6  \\n  Col  RU                p   10      53450.8  \\n  CrA  eps               p   10      185843.4 \\n  CrA  V0711             p   10      180432.8 \\n  CrA  V0731             p   10      183051.7 \\n  CrA  V0734             p   10      185108.7 \\n  Cru  TW                p   10      120316.2 \\n  Cru  ZZ                p   10      120545.4 \\n  Dor  AP                p   10      50645.1  \\n  Dor  RW                p   10      51832.5  \\n  Eri  BV                p   10      35153.3  \\n  Eri  CT                p   10      42924.8  \\n  Eri  YY                p   10      41208.8  \\n  For  XZ                p   10      20118.7  \\n  Gru  BC                p   10      224449.1 \\n  Gru  DY                p   10      232314.3 \\n  Gru  EH                p   10      214730.6 \\n  Gru  EN                p   10      231523.7 \\n  Gru  NSV25657          p   10      nan      \\n  Gru  RV                p   10      223924.4 \\n  Gru  UV                p   10      221953.9 \\n  Gru  V                 p   10      215153.4 \\n  Gru  YY                p   10      224846.6 \\n  Hor  SZ                p   10      30701.2  \\n  Hor  WY                p   10      23401.1  \\n  Hor  WZ                p   10      24801.1  \\n  Hyi  CN                p   10      24537.0  \\n  Hyi  CP                p   10      30013.7  \\n  Hyi  CY                p   10      30617.3  \\n  HYI  NSV1000           p   10      25618.8  \\n  Hyi  UV                p   10      33856.3  \\n  Ind  BO                p   10      204416.5 \\n  Ind  BR                p   10      211122.8 \\n  Ind  CN                p   10      204539.2 \\n  Ind  CO                p   10      205629.6 \\n  Ind  CR                p   10      213345.1 \\n  Ind  CT                p   10      222946.2 \\n  Ind  CU                p   10      223717.6 \\n  Ind  DD                p   10      212447.1 \\n  Ind  ST                p   10      203523.8 \\n  Ind  TV                p   10      203354.6 \\n  Lep  RR                p   10      51210.5  \\n  Lup  FT                p   10      145952.7 \\n  Lup  GG_Primary        p   10      151856.4 \\n  Lup  GG_Secondary      s   10      151856.4 \\n  Lup  IU                p   10      150101.4 \\n  Lup  OW                p   10      150933.6 \\n  Lup  QZ                p   10      145621.8 \\n  Men  AU                p   10      55500.7  \\n  Men  NSV2569           p   10      53728.1  \\n  Men  RR                p   10      34350.4  \\n  Men  TY_Primary        p   10      52649.7  \\n  Men  TY_Secondary      s   10      52649.7  \\n  Men  XY_Primary        p   10      52213.5  \\n  Men  XY_Secondary      s   10      52213.5  \\n  Mic  AH                p   10      210457.8 \\n  Mic  CY                p   10      205155.0 \\n  Mic  CZ                p   10      205443.9 \\n  Mic  DE                p   10      210559.0 \\n  Mic  DG                p   10      211419.3 \\n  Mic  DI                p   10      210239.1 \\n  Mus  BR                p   10      120451.9 \\n  Mus  BS                p   10      112143.8 \\n  Mus  eta               p   10      131514.9 \\n  Mus  TU                p   10      113110.9 \\n  Mus  TV                p   10      113957.8 \\n  Mus  TW                p   10      114241.4 \\n  Nor  V0395             p   10      160016.8 \\n  Nor  V0398             p   10      162157.0 \\n  Oct  EI                p   10      123243.0 \\n  Oct  EZ                p   10      154313.8 \\n  Oph  V1010             p   10      164927.7 \\n  Ori  ER                p   10      51114.5  \\n  Ori  VV                p   10      53331.4  \\n  Pav  BF                p   10      184539.3 \\n  Pav  HY                p   10      202349.1 \\n  Pav  IY                p   10      203529.5 \\n  Pav  KZ                p   10      205840.1 \\n  Pav  MW                p   10      204627.7 \\n  Pav  V0386             p   10      205557.9 \\n  Pav  V0400             p   10      212704.4 \\n  Pav  V0401             p   10      180156.3 \\n  Phe  AD                p   10      11638.1  \\n  Phe  AE                p   10      13232.9  \\n  Phe  AU                p   10      15023.5  \\n  Phe  BL                p   10      1047.3   \\n  Phe  BM                p   10      1845.9   \\n  Phe  BQ                p   10      2524.1   \\n  Phe  CT                p   10      12546.4  \\n  Phe  NSV455            p   10      11636.1  \\n  Phe  YZ                p   10      14225.9  \\n  PsA  XZ                p   10      212740.0 \\n  PsA  ZZ                p   10      215035.2 \\n  Pup  CS                p   10      73435.0  \\n  Pup  GY                p   10      71640.1  \\n  Pup  GZ                p   10      71727.1  \\n  Pup  HI                p   10      73338.2  \\n  Pup  NO_Primary        p   10      82617.7  \\n  Pup  NO_Secondary      s   10      82617.7  \\n  Pup  V0410             p   10      75945.9  \\n  Pup  V0621             p   10      75809.1  \\n  Pup  V0653             p   10      72114.7  \\n  Pyx  CR                p   10      83129.0  \\n  Ret  NSV1389           p   10      nan      \\n  Ret  UX                p   10      35734.0  \\n  Scl  BB                p   10      13501.0  \\n  Scl  CP                p   10      2449.4   \\n  Scl  CW                p   10      232801.1 \\n  Scl  CX                p   10      234520.2 \\n  Scl  RT                p   10      3628.1   \\n  Scl  UY                p   10      1445.8   \\n  Sco  V0462             p   10      171014.3 \\n  Sco  V0632             p   10      172030.4 \\n  Sco  V0638             p   10      172407.3 \\n  Sco  V0701             p   10      173424.5 \\n  Sco  V0760             p   10      162443.7 \\n  Sco  V0883             p   10      165752.4 \\n  Sco  V0954             p   10      163853.9 \\n  Sco  V1055             p   10      162726.2 \\n  Sco  V1084             p   10      173757.4 \\n  Sex  CV                p   10      101804.2 \\n  Sex  VY                p   10      105029.7 \\n  Sex  XX                p   10      101602.1 \\n  Sgr  RS                p   10      181736.2 \\n  Sgr  V0505             p   10      195306.4 \\n  Sgr  V0779             p   10      175537.1 \\n  Sgr  V2509             p   10      181549.9 \\n  Sgr  V3792             p   10      180854.0 \\n  Sgr  V3863             p   10      184012.3 \\n  Sgr  V4197             p   10      190557.9 \\n  Tel  GY                p   10      185540.0 \\n  Tel  QW                p   10      182209.9 \\n  Tel  V0343             p   10      195003.5 \\n  Tel  V0368             p   10      195349.9 \\n  TrA  EQ                p   10      161000.0 \\n  TrA  GN                p   10      154859.3 \\n  TrA  GQ                p   10      162120.0 \\n  TrA  HP                p   10      152606.5 \\n  TrA  MN_primary        p   10      155828.3 \\n  TrA  MN_secondary      s   10      155828.3 \\n  TrA  NT_primary        p   10      154051.2 \\n  TrA  NT_secondary      s   10      154051.2 \\n  TrA  V0336             p   10      155906.4 \\n  Tuc  AQ                p   10      1721.5   \\n  Tuc  CU                p   10      3713.4   \\n  Tuc  DX                p   10      235721.5 \\n  Tuc  EK                p   10      223851.8 \\n  Tuc  NSV14537          p   10      232415.6 \\n  Vel  BF                p   10      85627.0  \\n  Vel  BU                p   10      84006.3  \\n  Vel  DU                p   10      94542.1  \\n  Vel  FM                p   10      94742.3  \\n  Vel  QX                p   10      94856.5  \\n  Vel  TT                p   10      102016.5 \\n  Vel  V0362             p   10      110421.0 \\n  Vel  V0448             p   10      82455.5  \\n  Vir  HW                p   10      124420.2 \\n  Vol  AE                p   10      84539.4  \\n  Vol  AF                p   10      85334.9  \\n  Vol  W                 p   10      73740.1  '"
      ]
     },
     "execution_count": 106,
     "metadata": {},
     "output_type": "execute_result"
    }
   ],
   "source": [
    "fixed_width_str"
   ]
  },
  {
   "cell_type": "code",
   "execution_count": 134,
   "id": "b36c2702-6cd4-43dc-b80e-6e480576e262",
   "metadata": {},
   "outputs": [],
   "source": [
    "# Save to a file\n",
    "with open('fixed_width_file.txt', 'w') as file:\n",
    "    file.write(fixed_width_str)\n"
   ]
  },
  {
   "cell_type": "code",
   "execution_count": null,
   "id": "de476334-a575-45f9-b1ca-77060382ae4b",
   "metadata": {},
   "outputs": [],
   "source": []
  }
 ],
 "metadata": {
  "kernelspec": {
   "display_name": "Python 3 (ipykernel)",
   "language": "python",
   "name": "python3"
  },
  "language_info": {
   "codemirror_mode": {
    "name": "ipython",
    "version": 3
   },
   "file_extension": ".py",
   "mimetype": "text/x-python",
   "name": "python",
   "nbconvert_exporter": "python",
   "pygments_lexer": "ipython3",
   "version": "3.8.5"
  }
 },
 "nbformat": 4,
 "nbformat_minor": 5
}

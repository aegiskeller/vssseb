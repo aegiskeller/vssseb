{
 "cells": [
  {
   "cell_type": "markdown",
   "id": "3cb6c9d7-5c4c-4682-b457-83a02522ce91",
   "metadata": {},
   "source": [
    "<h1>VSS SEB Parsing for Ephemerides</h1>"
   ]
  },
  {
   "cell_type": "code",
   "execution_count": 3,
   "id": "f27e34eb-a16a-47df-9f2f-42389e47c88a",
   "metadata": {},
   "outputs": [],
   "source": [
    "import pandas as pd\n",
    "from astroquery.simbad import Simbad"
   ]
  },
  {
   "cell_type": "code",
   "execution_count": 4,
   "id": "da847dde-6519-4409-9681-2b0c3819c8b6",
   "metadata": {},
   "outputs": [],
   "source": [
    "df = pd.DataFrame()"
   ]
  },
  {
   "cell_type": "code",
   "execution_count": 5,
   "id": "6f75ee60-8f52-413e-94ad-0d456ff863d9",
   "metadata": {},
   "outputs": [],
   "source": [
    "df = pd.read_excel('VSS SEB observed targets.xlsx', sheet_name='Data')"
   ]
  },
  {
   "cell_type": "code",
   "execution_count": 6,
   "id": "c59cf0cf-3878-4562-91c5-7b14b45edf3f",
   "metadata": {},
   "outputs": [
    {
     "data": {
      "text/html": [
       "<div>\n",
       "<style scoped>\n",
       "    .dataframe tbody tr th:only-of-type {\n",
       "        vertical-align: middle;\n",
       "    }\n",
       "\n",
       "    .dataframe tbody tr th {\n",
       "        vertical-align: top;\n",
       "    }\n",
       "\n",
       "    .dataframe thead th {\n",
       "        text-align: right;\n",
       "    }\n",
       "</style>\n",
       "<table border=\"1\" class=\"dataframe\">\n",
       "  <thead>\n",
       "    <tr style=\"text-align: right;\">\n",
       "      <th></th>\n",
       "      <th>Star</th>\n",
       "      <th>Epoch (HJD)</th>\n",
       "      <th>Epoch Error</th>\n",
       "      <th>Period (d)</th>\n",
       "      <th>Period Error</th>\n",
       "      <th>O-C Diagram Notes</th>\n",
       "      <th>Recommended Fequency</th>\n",
       "      <th>Last Observed</th>\n",
       "    </tr>\n",
       "  </thead>\n",
       "  <tbody>\n",
       "    <tr>\n",
       "      <th>0</th>\n",
       "      <td>Ant S</td>\n",
       "      <td>2.458519e+06</td>\n",
       "      <td>0.000287</td>\n",
       "      <td>0.648348</td>\n",
       "      <td>2.959964e-07</td>\n",
       "      <td>linear?</td>\n",
       "      <td>yearly</td>\n",
       "      <td>2022-03-08 15:49:44.602</td>\n",
       "    </tr>\n",
       "    <tr>\n",
       "      <th>1</th>\n",
       "      <td>Aps DW</td>\n",
       "      <td>2.439210e+06</td>\n",
       "      <td>0.000787</td>\n",
       "      <td>2.312944</td>\n",
       "      <td>9.672835e-08</td>\n",
       "      <td>linear?</td>\n",
       "      <td>yearly</td>\n",
       "      <td>2022-05-09 14:58:03.446</td>\n",
       "    </tr>\n",
       "    <tr>\n",
       "      <th>2</th>\n",
       "      <td>Aps II</td>\n",
       "      <td>2.451931e+06</td>\n",
       "      <td>0.149860</td>\n",
       "      <td>0.842229</td>\n",
       "      <td>1.695586e-05</td>\n",
       "      <td>eccentric + apsidal motion?</td>\n",
       "      <td>2 per year</td>\n",
       "      <td>2021-06-23 10:19:15.616</td>\n",
       "    </tr>\n",
       "    <tr>\n",
       "      <th>3</th>\n",
       "      <td>Aps MR</td>\n",
       "      <td>2.457159e+06</td>\n",
       "      <td>0.000462</td>\n",
       "      <td>0.527864</td>\n",
       "      <td>1.404435e-07</td>\n",
       "      <td>linear?</td>\n",
       "      <td>yearly</td>\n",
       "      <td>2023-07-26 11:58:57.014</td>\n",
       "    </tr>\n",
       "    <tr>\n",
       "      <th>4</th>\n",
       "      <td>Aps NT</td>\n",
       "      <td>2.457208e+06</td>\n",
       "      <td>0.000361</td>\n",
       "      <td>0.294762</td>\n",
       "      <td>5.285139e-08</td>\n",
       "      <td>downward parabola?</td>\n",
       "      <td>yearly</td>\n",
       "      <td>2024-05-23 13:12:24.365</td>\n",
       "    </tr>\n",
       "  </tbody>\n",
       "</table>\n",
       "</div>"
      ],
      "text/plain": [
       "     Star   Epoch (HJD)  Epoch Error  Period (d)  Period Error  \\\n",
       "0   Ant S  2.458519e+06     0.000287    0.648348  2.959964e-07   \n",
       "1  Aps DW  2.439210e+06     0.000787    2.312944  9.672835e-08   \n",
       "2  Aps II  2.451931e+06     0.149860    0.842229  1.695586e-05   \n",
       "3  Aps MR  2.457159e+06     0.000462    0.527864  1.404435e-07   \n",
       "4  Aps NT  2.457208e+06     0.000361    0.294762  5.285139e-08   \n",
       "\n",
       "             O-C Diagram Notes Recommended Fequency           Last Observed  \n",
       "0                      linear?               yearly 2022-03-08 15:49:44.602  \n",
       "1                      linear?               yearly 2022-05-09 14:58:03.446  \n",
       "2  eccentric + apsidal motion?           2 per year 2021-06-23 10:19:15.616  \n",
       "3                      linear?               yearly 2023-07-26 11:58:57.014  \n",
       "4           downward parabola?               yearly 2024-05-23 13:12:24.365  "
      ]
     },
     "execution_count": 6,
     "metadata": {},
     "output_type": "execute_result"
    }
   ],
   "source": [
    "df.head()"
   ]
  },
  {
   "cell_type": "code",
   "execution_count": 78,
   "id": "2ad5eac9-eff7-45ec-8cd3-2487da2036f6",
   "metadata": {},
   "outputs": [
    {
     "data": {
      "text/plain": [
       "Index([                'Star',          'Epoch (HJD)',          'Epoch Error',\n",
       "                 'Period (d)',         'Period Error',    'O-C Diagram Notes',\n",
       "       'Recommended Fequency',        'Last Observed',     ('Const', 'VarID')],\n",
       "      dtype='object')"
      ]
     },
     "execution_count": 78,
     "metadata": {},
     "output_type": "execute_result"
    }
   ],
   "source": [
    "df.columns"
   ]
  },
  {
   "cell_type": "code",
   "execution_count": 7,
   "id": "f472c19c-a993-4ae2-8068-efaefbc568d5",
   "metadata": {},
   "outputs": [],
   "source": [
    "df['Const', 'VarID'] = df['Star'].str.split()"
   ]
  },
  {
   "cell_type": "markdown",
   "id": "ce46480f-1a7d-4bec-8b13-24beb93b21b7",
   "metadata": {},
   "source": [
    "We parse the weirdness of the input file"
   ]
  },
  {
   "cell_type": "code",
   "execution_count": 87,
   "id": "f5c5c63c-b685-4edc-ad44-371c76de2a97",
   "metadata": {},
   "outputs": [
    {
     "name": "stderr",
     "output_type": "stream",
     "text": [
      "WARNING: BlankResponseWarning: Warning: The script line number 3 raised an error (recorded in the `errors` attribute of the result table): Identifier not found in the database : NSV 25657 [astroquery.simbad.core]\n"
     ]
    },
    {
     "name": "stdout",
     "output_type": "stream",
     "text": [
      "NSV25657: failed to locate\n"
     ]
    },
    {
     "name": "stderr",
     "output_type": "stream",
     "text": [
      "WARNING: BlankResponseWarning: Warning: The script line number 3 raised an error (recorded in the `errors` attribute of the result table): Identifier not found in the database : ASASSN-V J184530.00-593235.0 [astroquery.simbad.core]\n"
     ]
    },
    {
     "name": "stdout",
     "output_type": "stream",
     "text": [
      "ASASSN-VJ184530.00-593235.0: failed to locate\n"
     ]
    },
    {
     "name": "stderr",
     "output_type": "stream",
     "text": [
      "WARNING: BlankResponseWarning: Warning: The script line number 3 raised an error (recorded in the `errors` attribute of the result table): Identifier not found in the database : NSV  1389 [astroquery.simbad.core]\n"
     ]
    },
    {
     "name": "stdout",
     "output_type": "stream",
     "text": [
      "NSV1389: failed to locate\n"
     ]
    }
   ],
   "source": [
    "objectsdf = pd.DataFrame()\n",
    "for i in range(len(df)):\n",
    "    details = df['Const', 'VarID'].iloc[i]\n",
    "    if (len(details) == 2):\n",
    "        object_name = details[1] +' '+ details[0]\n",
    "    if (len(details) > 2):\n",
    "        if (details[2].lower() == \"secondary\" or details[2].lower() == \"primary\"):\n",
    "            object_name = details[1] +' '+ details[0]\n",
    "        else:\n",
    "            object_name = details[1]+details[2]# +' '+ details[0]\n",
    "\n",
    "    result_table = Simbad.query_object(object_name)\n",
    "    #print(result_table)\n",
    "    if (result_table is None):\n",
    "        print(f'{object_name}: failed to locate')\n",
    "    else:\n",
    "        objdf = result_table.to_pandas()\n",
    "        for colname in df.columns[:-1]:\n",
    "            #print(colname, df.iloc[i][colname])\n",
    "            objdf[colname] = df.iloc[i][colname]\n",
    "        objectsdf = pd.concat([objectsdf, objdf], ignore_index=True)\n",
    "columns_to_drop = ['RA_PREC', 'DEC_PREC', 'COO_ERR_MAJA', 'COO_ERR_MINA','COO_ERR_ANGLE','COO_QUAL','COO_WAVELENGTH','COO_BIBCODE',\t'SCRIPT_NUMBER_ID']\n",
    "objectsdf = objectsdf.drop(columns=columns_to_drop)"
   ]
  },
  {
   "cell_type": "code",
   "execution_count": 89,
   "id": "ddf246fd-6a94-4ec7-8739-ca47446403fa",
   "metadata": {},
   "outputs": [],
   "source": [
    "objectsdf['RA'] = objectsdf['RA'].str.replace(' ',':')\n",
    "objectsdf['DEC'] = objectsdf['DEC'].str.replace(' ',':')\n",
    "objectsdf['MAIN_ID'] = objectsdf['MAIN_ID'].str.replace('V* ','')"
   ]
  },
  {
   "cell_type": "code",
   "execution_count": 60,
   "id": "4e2fcfd9-4cba-42fa-a929-50679dca1183",
   "metadata": {},
   "outputs": [
    {
     "data": {
      "text/html": [
       "<div>\n",
       "<style scoped>\n",
       "    .dataframe tbody tr th:only-of-type {\n",
       "        vertical-align: middle;\n",
       "    }\n",
       "\n",
       "    .dataframe tbody tr th {\n",
       "        vertical-align: top;\n",
       "    }\n",
       "\n",
       "    .dataframe thead th {\n",
       "        text-align: right;\n",
       "    }\n",
       "</style>\n",
       "<table border=\"1\" class=\"dataframe\">\n",
       "  <thead>\n",
       "    <tr style=\"text-align: right;\">\n",
       "      <th></th>\n",
       "      <th>MAIN_ID</th>\n",
       "      <th>RA</th>\n",
       "      <th>DEC</th>\n",
       "      <th>RA_PREC</th>\n",
       "      <th>DEC_PREC</th>\n",
       "      <th>COO_ERR_MAJA</th>\n",
       "      <th>COO_ERR_MINA</th>\n",
       "      <th>COO_ERR_ANGLE</th>\n",
       "      <th>COO_QUAL</th>\n",
       "      <th>COO_WAVELENGTH</th>\n",
       "      <th>COO_BIBCODE</th>\n",
       "      <th>SCRIPT_NUMBER_ID</th>\n",
       "    </tr>\n",
       "  </thead>\n",
       "  <tbody>\n",
       "    <tr>\n",
       "      <th>0</th>\n",
       "      <td>V* W Vol</td>\n",
       "      <td>07 37 40.0546</td>\n",
       "      <td>-69 32 32.383</td>\n",
       "      <td>14</td>\n",
       "      <td>14</td>\n",
       "      <td>0.011</td>\n",
       "      <td>0.0109</td>\n",
       "      <td>90</td>\n",
       "      <td>A</td>\n",
       "      <td>O</td>\n",
       "      <td>2020yCat.1350....0G</td>\n",
       "      <td>1</td>\n",
       "    </tr>\n",
       "  </tbody>\n",
       "</table>\n",
       "</div>"
      ],
      "text/plain": [
       "    MAIN_ID             RA            DEC  RA_PREC  DEC_PREC  COO_ERR_MAJA  \\\n",
       "0  V* W Vol  07 37 40.0546  -69 32 32.383       14        14         0.011   \n",
       "\n",
       "   COO_ERR_MINA  COO_ERR_ANGLE COO_QUAL COO_WAVELENGTH          COO_BIBCODE  \\\n",
       "0        0.0109             90        A              O  2020yCat.1350....0G   \n",
       "\n",
       "   SCRIPT_NUMBER_ID  \n",
       "0                 1  "
      ]
     },
     "execution_count": 60,
     "metadata": {},
     "output_type": "execute_result"
    }
   ],
   "source": [
    "objdf"
   ]
  },
  {
   "cell_type": "code",
   "execution_count": 71,
   "id": "b80531b9-d683-4602-b6bb-8b5d69fe7601",
   "metadata": {},
   "outputs": [
    {
     "data": {
      "text/plain": [
       "Star                                         Ant S\n",
       "Epoch (HJD)                         2458518.709393\n",
       "Epoch Error                               0.000287\n",
       "Period (d)                                0.648348\n",
       "Period Error                                   0.0\n",
       "O-C Diagram Notes                          linear?\n",
       "Recommended Fequency                        yearly\n",
       "Last Observed           2022-03-08 15:49:44.602000\n",
       "(Const, VarID)                            [Ant, S]\n",
       "Name: 0, dtype: object"
      ]
     },
     "execution_count": 71,
     "metadata": {},
     "output_type": "execute_result"
    }
   ],
   "source": [
    "df"
   ]
  },
  {
   "cell_type": "code",
   "execution_count": 66,
   "id": "47fd81a8-e075-45ac-ac2d-f3da6c97fb6e",
   "metadata": {},
   "outputs": [
    {
     "data": {
      "text/plain": [
       "pandas.core.frame.DataFrame"
      ]
     },
     "execution_count": 66,
     "metadata": {},
     "output_type": "execute_result"
    }
   ],
   "source": [
    "type(e)"
   ]
  },
  {
   "cell_type": "code",
   "execution_count": 67,
   "id": "a8d90da0-14d2-4942-8584-216e5839c0a8",
   "metadata": {},
   "outputs": [
    {
     "data": {
      "text/html": [
       "<div>\n",
       "<style scoped>\n",
       "    .dataframe tbody tr th:only-of-type {\n",
       "        vertical-align: middle;\n",
       "    }\n",
       "\n",
       "    .dataframe tbody tr th {\n",
       "        vertical-align: top;\n",
       "    }\n",
       "\n",
       "    .dataframe thead th {\n",
       "        text-align: right;\n",
       "    }\n",
       "</style>\n",
       "<table border=\"1\" class=\"dataframe\">\n",
       "  <thead>\n",
       "    <tr style=\"text-align: right;\">\n",
       "      <th></th>\n",
       "      <th>0</th>\n",
       "    </tr>\n",
       "  </thead>\n",
       "  <tbody>\n",
       "    <tr>\n",
       "      <th>Star</th>\n",
       "      <td>Ant S</td>\n",
       "    </tr>\n",
       "    <tr>\n",
       "      <th>Epoch (HJD)</th>\n",
       "      <td>2458518.709393</td>\n",
       "    </tr>\n",
       "    <tr>\n",
       "      <th>Epoch Error</th>\n",
       "      <td>0.000287</td>\n",
       "    </tr>\n",
       "    <tr>\n",
       "      <th>Period (d)</th>\n",
       "      <td>0.648348</td>\n",
       "    </tr>\n",
       "    <tr>\n",
       "      <th>Period Error</th>\n",
       "      <td>0.0</td>\n",
       "    </tr>\n",
       "    <tr>\n",
       "      <th>O-C Diagram Notes</th>\n",
       "      <td>linear?</td>\n",
       "    </tr>\n",
       "    <tr>\n",
       "      <th>Recommended Fequency</th>\n",
       "      <td>yearly</td>\n",
       "    </tr>\n",
       "    <tr>\n",
       "      <th>Last Observed</th>\n",
       "      <td>2022-03-08 15:49:44.602000</td>\n",
       "    </tr>\n",
       "    <tr>\n",
       "      <th>(Const, VarID)</th>\n",
       "      <td>[Ant, S]</td>\n",
       "    </tr>\n",
       "  </tbody>\n",
       "</table>\n",
       "</div>"
      ],
      "text/plain": [
       "                                               0\n",
       "Star                                       Ant S\n",
       "Epoch (HJD)                       2458518.709393\n",
       "Epoch Error                             0.000287\n",
       "Period (d)                              0.648348\n",
       "Period Error                                 0.0\n",
       "O-C Diagram Notes                        linear?\n",
       "Recommended Fequency                      yearly\n",
       "Last Observed         2022-03-08 15:49:44.602000\n",
       "(Const, VarID)                          [Ant, S]"
      ]
     },
     "execution_count": 67,
     "metadata": {},
     "output_type": "execute_result"
    }
   ],
   "source": [
    "e"
   ]
  },
  {
   "cell_type": "code",
   "execution_count": null,
   "id": "ce8e0062-10f8-49b2-9948-4ec9a298d67d",
   "metadata": {},
   "outputs": [],
   "source": []
  }
 ],
 "metadata": {
  "kernelspec": {
   "display_name": "Python 3 (ipykernel)",
   "language": "python",
   "name": "python3"
  },
  "language_info": {
   "codemirror_mode": {
    "name": "ipython",
    "version": 3
   },
   "file_extension": ".py",
   "mimetype": "text/x-python",
   "name": "python",
   "nbconvert_exporter": "python",
   "pygments_lexer": "ipython3",
   "version": "3.12.4"
  }
 },
 "nbformat": 4,
 "nbformat_minor": 5
}
